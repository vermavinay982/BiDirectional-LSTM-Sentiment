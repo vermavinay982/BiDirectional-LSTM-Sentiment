{
 "cells": [
  {
   "cell_type": "code",
   "execution_count": 1,
   "id": "6d5091b2",
   "metadata": {},
   "outputs": [],
   "source": [
    "import tensorflow as tf\n",
    "\n",
    "gpus = tf.config.list_physical_devices('GPU')\n",
    "gpu = gpus[0]\n",
    "\n",
    "tf.config.experimental.set_memory_growth(gpu,True)"
   ]
  },
  {
   "cell_type": "code",
   "execution_count": 2,
   "id": "cbcae320",
   "metadata": {},
   "outputs": [],
   "source": [
    "from keras.datasets import imdb\n",
    "from keras.preprocessing import sequence\n",
    "from keras import layers\n",
    "from keras.models import Sequential"
   ]
  },
  {
   "cell_type": "code",
   "execution_count": 3,
   "id": "bb78e869",
   "metadata": {},
   "outputs": [],
   "source": [
    "import keras\n",
    "from keras.utils import plot_model"
   ]
  },
  {
   "cell_type": "code",
   "execution_count": 24,
   "id": "1d1df16c",
   "metadata": {},
   "outputs": [],
   "source": [
    "max_feature = 10000\n",
    "maxlen = 500"
   ]
  },
  {
   "cell_type": "code",
   "execution_count": 18,
   "id": "3c1cd9ca",
   "metadata": {},
   "outputs": [
    {
     "name": "stdout",
     "output_type": "stream",
     "text": [
      "Generating Reverse Data\n",
      "Done\n"
     ]
    }
   ],
   "source": [
    "(x_train_main, y_train),(x_test_main, y_test)= imdb.load_data(num_words=max_feature)\n",
    "\n",
    "x_train = sequence.pad_sequences(x_train_main, maxlen=maxlen)\n",
    "x_test = sequence.pad_sequences(x_test_main, maxlen=maxlen)\n",
    "\n",
    "print(\"Generating Reverse Data\")\n",
    "x_train_r = [x[::-1] for x in x_train_main]\n",
    "x_test_r = [x[::-1] for x in x_test_main]\n",
    "\n",
    "x_train_r = sequence.pad_sequences(x_train_r, maxlen=maxlen)\n",
    "x_test_r = sequence.pad_sequences(x_test_r, maxlen=maxlen)\n",
    "print('Done')"
   ]
  },
  {
   "cell_type": "code",
   "execution_count": 19,
   "id": "69cc8048",
   "metadata": {},
   "outputs": [
    {
     "data": {
      "text/plain": [
       "((25000, 500), (25000, 500))"
      ]
     },
     "execution_count": 19,
     "metadata": {},
     "output_type": "execute_result"
    }
   ],
   "source": [
    "x_train.shape, x_train_r.shape"
   ]
  },
  {
   "cell_type": "code",
   "execution_count": 10,
   "id": "d26d695c",
   "metadata": {},
   "outputs": [],
   "source": [
    "run = 0"
   ]
  },
  {
   "cell_type": "code",
   "execution_count": 15,
   "id": "77573a88",
   "metadata": {},
   "outputs": [],
   "source": [
    "varient = 'base'\n",
    "log_dir = f'logdir/{varient}+{run}'\n",
    "model_path = 'imdb_'+varient+'.h5'\n",
    "run+=1\n",
    "\n",
    "tb = keras.callbacks.TensorBoard(log_dir=log_dir,\n",
    "                                 histogram_freq=1,\n",
    "                                 embeddings_freq=1)\n",
    "\n",
    "es = keras.callbacks.EarlyStopping(monitor='acc',\n",
    "                                   patience=5,\n",
    "                                   verbose=1)\n",
    "\n",
    "ckpt = keras.callbacks.ModelCheckpoint(filepath=model_path,\n",
    "                                       monitor='val_loss',\n",
    "                                       save_best_only=True)\n",
    "\n",
    "callback_list = [tb, es, ckpt]"
   ]
  },
  {
   "cell_type": "code",
   "execution_count": 16,
   "id": "98f5d190",
   "metadata": {},
   "outputs": [
    {
     "name": "stdout",
     "output_type": "stream",
     "text": [
      "Epoch 1/10\n",
      "157/157 [==============================] - 8s 43ms/step - loss: 0.5487 - acc: 0.7153 - val_loss: 0.3634 - val_acc: 0.8482\n",
      "Epoch 2/10\n",
      "157/157 [==============================] - 7s 42ms/step - loss: 0.2902 - acc: 0.8890 - val_loss: 0.3534 - val_acc: 0.8520\n",
      "Epoch 3/10\n",
      "157/157 [==============================] - 6s 41ms/step - loss: 0.2232 - acc: 0.9168 - val_loss: 0.3052 - val_acc: 0.8810\n",
      "Epoch 4/10\n",
      "157/157 [==============================] - 6s 40ms/step - loss: 0.1873 - acc: 0.9326 - val_loss: 0.2911 - val_acc: 0.8892\n",
      "Epoch 5/10\n",
      "157/157 [==============================] - 6s 41ms/step - loss: 0.1531 - acc: 0.9454 - val_loss: 0.8567 - val_acc: 0.7440\n",
      "Epoch 6/10\n",
      "157/157 [==============================] - 6s 40ms/step - loss: 0.1524 - acc: 0.9479 - val_loss: 0.3157 - val_acc: 0.8806\n",
      "Epoch 7/10\n",
      "157/157 [==============================] - 6s 41ms/step - loss: 0.1109 - acc: 0.9598 - val_loss: 0.3825 - val_acc: 0.8662\n",
      "Epoch 8/10\n",
      "157/157 [==============================] - 7s 42ms/step - loss: 0.1058 - acc: 0.9617 - val_loss: 0.4821 - val_acc: 0.8098\n",
      "Epoch 9/10\n",
      "157/157 [==============================] - 6s 41ms/step - loss: 0.0912 - acc: 0.9680 - val_loss: 0.4478 - val_acc: 0.8702\n",
      "Epoch 10/10\n",
      "157/157 [==============================] - 6s 41ms/step - loss: 0.0809 - acc: 0.9716 - val_loss: 0.3936 - val_acc: 0.8728\n"
     ]
    }
   ],
   "source": [
    "# Non Reversed Model - BASELINE\n",
    "model = Sequential()\n",
    "model.add(layers.Embedding(max_feature, 128))\n",
    "model.add(layers.LSTM(32))\n",
    "model.add(layers.Dense(1,activation='sigmoid'))\n",
    "\n",
    "model.compile(optimizer='rmsprop',loss='binary_crossentropy',metrics=['acc'])\n",
    "history = model.fit(x_train, y_train, epochs=10, batch_size=128,validation_split=0.2, callbacks=callback_list)"
   ]
  },
  {
   "cell_type": "code",
   "execution_count": 17,
   "id": "e09a5ed3",
   "metadata": {},
   "outputs": [
    {
     "name": "stdout",
     "output_type": "stream",
     "text": [
      "782/782 [==============================] - 6s 8ms/step - loss: 0.1170 - acc: 0.9647\n"
     ]
    },
    {
     "data": {
      "text/plain": [
       "[0.11696185916662216, 0.9647200107574463]"
      ]
     },
     "execution_count": 17,
     "metadata": {},
     "output_type": "execute_result"
    }
   ],
   "source": [
    "model.evaluate(x_train,y_train)"
   ]
  },
  {
   "cell_type": "code",
   "execution_count": 18,
   "id": "baae8f4e",
   "metadata": {},
   "outputs": [
    {
     "name": "stdout",
     "output_type": "stream",
     "text": [
      "782/782 [==============================] - 6s 8ms/step - loss: 0.4115 - acc: 0.8649\n"
     ]
    },
    {
     "data": {
      "text/plain": [
       "[0.4115009009838104, 0.8649200201034546]"
      ]
     },
     "execution_count": 18,
     "metadata": {},
     "output_type": "execute_result"
    }
   ],
   "source": [
    "model.evaluate(x_test,y_test)"
   ]
  },
  {
   "cell_type": "code",
   "execution_count": 20,
   "id": "834bf47e",
   "metadata": {},
   "outputs": [
    {
     "data": {
      "image/png": "[encoded data removed]",
      "text/plain": [
       "<IPython.core.display.Image object>"
      ]
     },
     "execution_count": 20,
     "metadata": {},
     "output_type": "execute_result"
    }
   ],
   "source": [
    "plot_model(model,f'imdb_{varient}_.png')"
   ]
  },
  {
   "cell_type": "code",
   "execution_count": 20,
   "id": "7bbf767f",
   "metadata": {},
   "outputs": [],
   "source": [
    "run = 0"
   ]
  },
  {
   "cell_type": "code",
   "execution_count": 21,
   "id": "d5a5a061",
   "metadata": {},
   "outputs": [
    {
     "name": "stdout",
     "output_type": "stream",
     "text": [
      "Epoch 1/10\n",
      "157/157 [==============================] - 8s 46ms/step - loss: 0.5858 - acc: 0.6727 - val_loss: 0.4292 - val_acc: 0.8244\n",
      "Epoch 2/10\n",
      "157/157 [==============================] - 6s 40ms/step - loss: 0.3193 - acc: 0.8780 - val_loss: 0.3423 - val_acc: 0.8750\n",
      "Epoch 3/10\n",
      "157/157 [==============================] - 7s 46ms/step - loss: 0.2452 - acc: 0.9126 - val_loss: 0.3453 - val_acc: 0.8728\n",
      "Epoch 4/10\n",
      "157/157 [==============================] - 6s 41ms/step - loss: 0.2040 - acc: 0.9290 - val_loss: 0.3439 - val_acc: 0.8812\n",
      "Epoch 5/10\n",
      "157/157 [==============================] - 6s 41ms/step - loss: 0.1895 - acc: 0.9313 - val_loss: 0.3336 - val_acc: 0.8808\n",
      "Epoch 6/10\n",
      "157/157 [==============================] - 6s 41ms/step - loss: 0.1621 - acc: 0.9426 - val_loss: 0.4538 - val_acc: 0.8170\n",
      "Epoch 7/10\n",
      "157/157 [==============================] - 7s 43ms/step - loss: 0.1555 - acc: 0.9465 - val_loss: 0.6072 - val_acc: 0.8546\n",
      "Epoch 8/10\n",
      "157/157 [==============================] - 7s 47ms/step - loss: 0.1384 - acc: 0.9532 - val_loss: 0.4197 - val_acc: 0.8672\n",
      "Epoch 9/10\n",
      "157/157 [==============================] - 6s 41ms/step - loss: 0.1312 - acc: 0.9586 - val_loss: 0.7048 - val_acc: 0.8116\n",
      "Epoch 10/10\n",
      "157/157 [==============================] - 6s 41ms/step - loss: 0.1225 - acc: 0.9616 - val_loss: 0.4036 - val_acc: 0.8708\n"
     ]
    }
   ],
   "source": [
    "varient = 'reversed'\n",
    "log_dir = f'logdir/{varient}+{run}'\n",
    "model_path = 'imdb_'+varient+'.h5'\n",
    "run+=1\n",
    "\n",
    "tb = keras.callbacks.TensorBoard(log_dir=log_dir,\n",
    "                                 histogram_freq=1,\n",
    "                                 embeddings_freq=1)\n",
    "\n",
    "es = keras.callbacks.EarlyStopping(monitor='acc',\n",
    "                                   patience=5,\n",
    "                                   verbose=1)\n",
    "\n",
    "ckpt = keras.callbacks.ModelCheckpoint(filepath=model_path,\n",
    "                                       monitor='val_loss',\n",
    "                                       save_best_only=True)\n",
    "callback_list = [tb, es, ckpt]\n",
    "\n",
    "# Reversed Model - BASELINE\n",
    "model = Sequential()\n",
    "model.add(layers.Embedding(max_feature, 128))\n",
    "model.add(layers.LSTM(32))\n",
    "model.add(layers.Dense(1,activation='sigmoid'))\n",
    "\n",
    "model.compile(optimizer='rmsprop',loss='binary_crossentropy',metrics=['acc'])\n",
    "history = model.fit(x_train_r, y_train, epochs=10, batch_size=128,validation_split=0.2, callbacks=callback_list)"
   ]
  },
  {
   "cell_type": "code",
   "execution_count": 22,
   "id": "820aa614",
   "metadata": {},
   "outputs": [
    {
     "name": "stdout",
     "output_type": "stream",
     "text": [
      "782/782 [==============================] - 6s 8ms/step - loss: 0.1335 - acc: 0.9593\n",
      "[0.13349691033363342, 0.9592800140380859]\n",
      "782/782 [==============================] - 7s 9ms/step - loss: 0.4695 - acc: 0.8464\n",
      "[0.4695044159889221, 0.8464400172233582]\n"
     ]
    },
    {
     "data": {
      "image/png": "[encoded data removed]",
      "text/plain": [
       "<IPython.core.display.Image object>"
      ]
     },
     "execution_count": 22,
     "metadata": {},
     "output_type": "execute_result"
    }
   ],
   "source": [
    "print(model.evaluate(x_train_r,y_train))\n",
    "print(model.evaluate(x_test_r,y_test))\n",
    "plot_model(model,f'imdb_{varient}_.png')"
   ]
  },
  {
   "cell_type": "code",
   "execution_count": null,
   "id": "0f0853dd",
   "metadata": {},
   "outputs": [],
   "source": [
    "run = 0"
   ]
  },
  {
   "cell_type": "code",
   "execution_count": 27,
   "id": "14151cfe",
   "metadata": {},
   "outputs": [
    {
     "name": "stdout",
     "output_type": "stream",
     "text": [
      "Epoch 1/10\n",
      "157/157 [==============================] - 11s 55ms/step - loss: 0.6362 - acc: 0.6394 - val_loss: 0.4650 - val_acc: 0.8296\n",
      "Epoch 2/10\n",
      "157/157 [==============================] - 7s 42ms/step - loss: 0.3517 - acc: 0.8606 - val_loss: 0.3322 - val_acc: 0.8690\n",
      "Epoch 3/10\n",
      "157/157 [==============================] - 7s 42ms/step - loss: 0.2536 - acc: 0.9048 - val_loss: 0.3844 - val_acc: 0.8194\n",
      "Epoch 4/10\n",
      "157/157 [==============================] - 7s 44ms/step - loss: 0.2149 - acc: 0.9210 - val_loss: 0.3722 - val_acc: 0.8758\n",
      "Epoch 5/10\n",
      "157/157 [==============================] - 7s 44ms/step - loss: 0.1828 - acc: 0.9347 - val_loss: 0.3118 - val_acc: 0.8870\n",
      "Epoch 6/10\n",
      "157/157 [==============================] - 7s 45ms/step - loss: 0.1546 - acc: 0.9434 - val_loss: 0.2949 - val_acc: 0.8844\n",
      "Epoch 7/10\n",
      "157/157 [==============================] - 7s 42ms/step - loss: 0.1337 - acc: 0.9539 - val_loss: 0.3661 - val_acc: 0.8512\n",
      "Epoch 8/10\n",
      "157/157 [==============================] - 7s 47ms/step - loss: 0.1279 - acc: 0.9560 - val_loss: 0.3270 - val_acc: 0.8780\n",
      "Epoch 9/10\n",
      "157/157 [==============================] - 7s 43ms/step - loss: 0.1111 - acc: 0.9623 - val_loss: 0.3280 - val_acc: 0.8704\n",
      "Epoch 10/10\n",
      "157/157 [==============================] - 7s 47ms/step - loss: 0.1009 - acc: 0.9646 - val_loss: 0.3481 - val_acc: 0.8802\n"
     ]
    }
   ],
   "source": [
    "varient = 'bidirectional'\n",
    "log_dir = f'logdir/{varient}+{run}'\n",
    "model_path = 'imdb_'+varient+'.h5'\n",
    "run+=1\n",
    "\n",
    "tb = keras.callbacks.TensorBoard(log_dir=log_dir,\n",
    "                                 histogram_freq=1,\n",
    "                                 embeddings_freq=1)\n",
    "\n",
    "es = keras.callbacks.EarlyStopping(monitor='acc',\n",
    "                                   patience=5,\n",
    "                                   verbose=1)\n",
    "\n",
    "ckpt = keras.callbacks.ModelCheckpoint(filepath=model_path,\n",
    "                                       monitor='val_loss',\n",
    "                                       save_best_only=True)\n",
    "callback_list = [tb, es, ckpt]\n",
    "\n",
    "# BiDirectional LSTM\n",
    "model = Sequential()\n",
    "model.add(layers.Embedding(max_feature,32))\n",
    "model.add(layers.Bidirectional(layers.LSTM(32)))\n",
    "model.add(layers.Dense(1,activation='sigmoid'))\n",
    "\n",
    "model.compile(optimizer='rmsprop', loss='binary_crossentropy', metrics=['acc'])\n",
    "history = model.fit(x_train, y_train,\n",
    "                    epochs=10,\n",
    "                    batch_size=128,\n",
    "                    validation_split=0.2,\n",
    "                    callbacks=callback_list)"
   ]
  },
  {
   "cell_type": "code",
   "execution_count": 28,
   "id": "758548e2",
   "metadata": {},
   "outputs": [
    {
     "name": "stdout",
     "output_type": "stream",
     "text": [
      "782/782 [==============================] - 9s 11ms/step - loss: 0.1312 - acc: 0.9579\n",
      "[0.1311572641134262, 0.9578800201416016]\n",
      "782/782 [==============================] - 9s 11ms/step - loss: 0.3857 - acc: 0.8662\n",
      "[0.38572120666503906, 0.8662400245666504]\n"
     ]
    },
    {
     "data": {
      "image/png": "[encoded data removed]",
      "text/plain": [
       "<IPython.core.display.Image object>"
      ]
     },
     "execution_count": 28,
     "metadata": {},
     "output_type": "execute_result"
    }
   ],
   "source": [
    "print(model.evaluate(x_train,y_train))\n",
    "print(model.evaluate(x_test,y_test))\n",
    "plot_model(model,f'imdb_{varient}_.png')"
   ]
  },
  {
   "cell_type": "code",
   "execution_count": 29,
   "id": "2108964d",
   "metadata": {},
   "outputs": [
    {
     "data": {
      "image/png": "[encoded data removed]",
      "text/plain": [
       "<IPython.core.display.Image object>"
      ]
     },
     "execution_count": 29,
     "metadata": {},
     "output_type": "execute_result"
    }
   ],
   "source": [
    "plot_model(model,f'imdb_{varient}_.png', show_shapes=True)"
   ]
  }
 ],
 "metadata": {
  "kernelspec": {
   "display_name": "Python 3",
   "language": "python",
   "name": "python3"
  },
  "language_info": {
   "codemirror_mode": {
    "name": "ipython",
    "version": 3
   },
   "file_extension": ".py",
   "mimetype": "text/x-python",
   "name": "python",
   "nbconvert_exporter": "python",
   "pygments_lexer": "ipython3",
   "version": "3.7.10"
  }
 },
 "nbformat": 4,
 "nbformat_minor": 5
}
